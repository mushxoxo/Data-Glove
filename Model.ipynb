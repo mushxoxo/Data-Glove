{
 "cells": [
  {
   "cell_type": "code",
   "execution_count": 19,
   "id": "5a2ebc83-b52b-49db-8202-d3a4ba72314b",
   "metadata": {},
   "outputs": [],
   "source": [
    "import os\n",
    "import pandas as pd\n",
    "import numpy as np\n",
    "import torch\n",
    "from torch.utils.data import Dataset, DataLoader\n",
    "import torch.nn as nn\n",
    "import torch.optim as optim\n",
    "from sklearn.metrics import classification_report, accuracy_score\n",
    "from sklearn.model_selection import train_test_split"
   ]
  },
  {
   "cell_type": "code",
   "execution_count": 20,
   "id": "57b8b348-a80b-457f-a1a3-2115c3d4ecc0",
   "metadata": {},
   "outputs": [],
   "source": [
    "# Configs\n",
    "DATA_PATH = \"Database/img/\"\n",
    "SEQ_LEN = 300   # 3s @ 10ms = 300 steps\n",
    "INPUT_DIM = 6\n",
    "BATCH_SIZE = 32\n",
    "EPOCHS = 20\n",
    "LR = 1e-3"
   ]
  },
  {
   "cell_type": "code",
   "execution_count": 21,
   "id": "374e1cc7-cc1f-43ed-b730-4eaccdf2cacd",
   "metadata": {},
   "outputs": [],
   "source": [
    "# Load and preprocess data\n",
    "sequences = []\n",
    "labels = []\n",
    "\n",
    "for filename in os.listdir(DATA_PATH):\n",
    "    if filename.endswith('.csv'):\n",
    "        path = os.path.join(DATA_PATH, filename)\n",
    "        df = pd.read_csv(path, header=None, dtype=str)\n",
    "\n",
    "        df = df.astype(str).apply(lambda col: col.map(lambda x: x.strip() if isinstance(x, str) else x))\n",
    "        df = df.replace(r'[^\\d\\.-]', '', regex=True)\n",
    "        df = df.apply(pd.to_numeric, errors='coerce')\n",
    "        df = df.dropna()\n",
    "\n",
    "        if df.shape[0] >= SEQ_LEN:\n",
    "            df = df.iloc[:SEQ_LEN, :]\n",
    "        else:\n",
    "            pad = pd.DataFrame(np.zeros((SEQ_LEN - df.shape[0], df.shape[1])))\n",
    "            df = pd.concat([df, pad], ignore_index=True)\n",
    "\n",
    "        sequences.append(df.values.astype(np.float32))\n",
    "        labels.append(filename.split('_')[0])"
   ]
  },
  {
   "cell_type": "code",
   "execution_count": 22,
   "id": "c8f9f458-e708-4879-ba18-41b3f9f5b286",
   "metadata": {},
   "outputs": [],
   "source": [
    "# Encode labels\n",
    "label_to_idx = {label: idx for idx, label in enumerate(sorted(set(labels)))}\n",
    "y_indices = [label_to_idx[label] for label in labels]"
   ]
  },
  {
   "cell_type": "code",
   "execution_count": 23,
   "id": "6a4ee58e-6792-4a5f-a601-8ae5ac56f432",
   "metadata": {},
   "outputs": [],
   "source": [
    "# Convert to tensors\n",
    "X = torch.tensor(np.stack(sequences))  # [N, 300, 6]\n",
    "y = torch.tensor(y_indices, dtype=torch.long)"
   ]
  },
  {
   "cell_type": "code",
   "execution_count": 24,
   "id": "9c38f82e-46ec-490a-88dd-a658b1722811",
   "metadata": {},
   "outputs": [
    {
     "name": "stdout",
     "output_type": "stream",
     "text": [
      "X shape: torch.Size([105, 300, 6])\n",
      "y shape: torch.Size([105])\n"
     ]
    }
   ],
   "source": [
    "print(\"X shape:\", X.shape)\n",
    "print(\"y shape:\", y.shape)"
   ]
  },
  {
   "cell_type": "code",
   "execution_count": 25,
   "id": "5be0e552-d77d-4dd2-a101-f3c1b1f8692a",
   "metadata": {},
   "outputs": [],
   "source": [
    "# Train-test split\n",
    "X_train, X_test, y_train, y_test = train_test_split(X, y, test_size=0.2, stratify=y, random_state=42)"
   ]
  },
  {
   "cell_type": "code",
   "execution_count": 26,
   "id": "7c216a82-495d-48ab-96af-7f126047deff",
   "metadata": {},
   "outputs": [],
   "source": [
    "# Dataset and DataLoader\n",
    "class GestureDataset(Dataset):\n",
    "    def __init__(self, X, y):\n",
    "        self.X = X\n",
    "        self.y = y\n",
    "    def __len__(self):\n",
    "        return len(self.X)\n",
    "    def __getitem__(self, idx):\n",
    "        return self.X[idx], self.y[idx]\n",
    "\n",
    "train_loader = DataLoader(GestureDataset(X_train, y_train), batch_size=BATCH_SIZE, shuffle=True)\n",
    "test_loader = DataLoader(GestureDataset(X_test, y_test), batch_size=BATCH_SIZE)\n",
    "\n",
    "\n"
   ]
  },
  {
   "cell_type": "code",
   "execution_count": 27,
   "id": "9827802c-d993-4d2e-bcd2-1eae4ae58e89",
   "metadata": {},
   "outputs": [
    {
     "data": {
      "text/plain": [
       "LSTMClassifier(\n",
       "  (lstm): LSTM(6, 128, batch_first=True)\n",
       "  (fc): Linear(in_features=128, out_features=5, bias=True)\n",
       ")"
      ]
     },
     "execution_count": 27,
     "metadata": {},
     "output_type": "execute_result"
    }
   ],
   "source": [
    "# LSTM model\n",
    "class LSTMClassifier(nn.Module):\n",
    "    def __init__(self, input_dim, hidden_dim, output_dim):\n",
    "        super().__init__()\n",
    "        self.lstm = nn.LSTM(input_dim, hidden_dim, batch_first=True)\n",
    "        self.fc = nn.Linear(hidden_dim, output_dim)\n",
    "    def forward(self, x):\n",
    "        _, (h_n, _) = self.lstm(x)\n",
    "        return self.fc(h_n.squeeze(0))\n",
    "\n",
    "model = LSTMClassifier(INPUT_DIM, 128, len(label_to_idx))\n",
    "device = torch.device(\"cuda\" if torch.cuda.is_available() else \"cpu\")\n",
    "model.to(device)"
   ]
  },
  {
   "cell_type": "code",
   "execution_count": 28,
   "id": "7bb1afec-9828-4329-a1af-e5092b304e12",
   "metadata": {},
   "outputs": [
    {
     "name": "stdout",
     "output_type": "stream",
     "text": [
      "Epoch 1/20 - Loss: 4.9343\n",
      "Epoch 2/20 - Loss: 4.5961\n",
      "Epoch 3/20 - Loss: 4.3409\n",
      "Epoch 4/20 - Loss: 4.1330\n",
      "Epoch 5/20 - Loss: 3.9388\n",
      "Epoch 6/20 - Loss: 3.8300\n",
      "Epoch 7/20 - Loss: 3.6616\n",
      "Epoch 8/20 - Loss: 3.5322\n",
      "Epoch 9/20 - Loss: 3.4333\n",
      "Epoch 10/20 - Loss: 3.3316\n",
      "Epoch 11/20 - Loss: 3.1975\n",
      "Epoch 12/20 - Loss: 3.1377\n",
      "Epoch 13/20 - Loss: 3.0271\n",
      "Epoch 14/20 - Loss: 2.9437\n",
      "Epoch 15/20 - Loss: 2.8199\n",
      "Epoch 16/20 - Loss: 2.7415\n",
      "Epoch 17/20 - Loss: 2.6020\n",
      "Epoch 18/20 - Loss: 2.5401\n",
      "Epoch 19/20 - Loss: 2.4676\n",
      "Epoch 20/20 - Loss: 2.3707\n"
     ]
    }
   ],
   "source": [
    "# Training\n",
    "optimizer = optim.Adam(model.parameters(), lr=LR)\n",
    "criterion = nn.CrossEntropyLoss()\n",
    "\n",
    "for epoch in range(EPOCHS):\n",
    "    model.train()\n",
    "    total_loss = 0\n",
    "    for batch_X, batch_y in train_loader:\n",
    "        batch_X, batch_y = batch_X.to(device), batch_y.to(device)\n",
    "        optimizer.zero_grad()\n",
    "        outputs = model(batch_X)\n",
    "        loss = criterion(outputs, batch_y)\n",
    "        loss.backward()\n",
    "        optimizer.step()\n",
    "        total_loss += loss.item()\n",
    "    print(f\"Epoch {epoch+1}/{EPOCHS} - Loss: {total_loss:.4f}\")"
   ]
  },
  {
   "cell_type": "code",
   "execution_count": 30,
   "id": "bd3d4e68-6d65-48ef-acce-c7ac73a8a640",
   "metadata": {},
   "outputs": [
    {
     "name": "stdout",
     "output_type": "stream",
     "text": [
      "\n",
      "Test Accuracy: 0.6667\n",
      "\n",
      "Classification Report:\n",
      "               precision    recall  f1-score   support\n",
      "\n",
      "           A       0.50      0.50      0.50         4\n",
      "           B       1.00      0.50      0.67         4\n",
      "           C       0.33      0.50      0.40         4\n",
      "           D       1.00      0.80      0.89         5\n",
      "           E       0.80      1.00      0.89         4\n",
      "\n",
      "    accuracy                           0.67        21\n",
      "   macro avg       0.73      0.66      0.67        21\n",
      "weighted avg       0.74      0.67      0.68        21\n",
      "\n"
     ]
    }
   ],
   "source": [
    "# Evaluation\n",
    "model.eval()\n",
    "all_preds = []\n",
    "all_targets = []\n",
    "\n",
    "with torch.no_grad():\n",
    "    for batch_X, batch_y in test_loader:\n",
    "        batch_X = batch_X.to(device)\n",
    "        outputs = model(batch_X)\n",
    "        preds = torch.argmax(outputs, dim=1).cpu()\n",
    "        all_preds.extend(preds.numpy())\n",
    "        all_targets.extend(batch_y.numpy())\n",
    "\n",
    "acc = accuracy_score(all_targets, all_preds)\n",
    "print(f\"\\nTest Accuracy: {acc:.4f}\")\n",
    "\n",
    "# Generate target names from label_to_idx\n",
    "idx_to_label = {v: k for k, v in label_to_idx.items()}\n",
    "target_names = [idx_to_label[i] for i in range(len(idx_to_label))]\n",
    "\n",
    "print(\"\\nClassification Report:\\n\", classification_report(all_targets, all_preds, target_names=target_names))\n",
    "\n",
    "\n"
   ]
  },
  {
   "cell_type": "code",
   "execution_count": 34,
   "id": "780c8f54-3aed-4daf-aecb-4de9e6b4704b",
   "metadata": {},
   "outputs": [
    {
     "name": "stdout",
     "output_type": "stream",
     "text": [
      "\n",
      "Predictions on Test Set:\n",
      "1: True = E, Predicted = E\n",
      "2: True = A, Predicted = C\n",
      "3: True = C, Predicted = C\n",
      "4: True = A, Predicted = A\n",
      "5: True = D, Predicted = D\n",
      "6: True = D, Predicted = D\n",
      "7: True = C, Predicted = C\n",
      "8: True = D, Predicted = D\n",
      "9: True = D, Predicted = D\n",
      "10: True = E, Predicted = E\n",
      "11: True = A, Predicted = A\n",
      "12: True = B, Predicted = B\n",
      "13: True = E, Predicted = E\n",
      "14: True = C, Predicted = A\n",
      "15: True = B, Predicted = C\n",
      "16: True = B, Predicted = B\n",
      "17: True = B, Predicted = A\n",
      "18: True = A, Predicted = C\n",
      "19: True = C, Predicted = E\n",
      "20: True = D, Predicted = C\n",
      "21: True = E, Predicted = E\n"
     ]
    }
   ],
   "source": [
    "# Predict and print results for the test set\n",
    "print(\"\\nPredictions on Test Set:\")\n",
    "for i in range(len(all_preds)):\n",
    "    true_label = idx_to_label[all_targets[i]]\n",
    "    predicted_label = idx_to_label[all_preds[i]]\n",
    "    print(f\"{i+1}: True = {true_label}, Predicted = {predicted_label}\")"
   ]
  },
  {
   "cell_type": "code",
   "execution_count": null,
   "id": "6a7a06c6-02c9-4ae4-9795-7277042d141e",
   "metadata": {},
   "outputs": [],
   "source": []
  }
 ],
 "metadata": {
  "kernelspec": {
   "display_name": "Python 3 (ipykernel)",
   "language": "python",
   "name": "python3"
  },
  "language_info": {
   "codemirror_mode": {
    "name": "ipython",
    "version": 3
   },
   "file_extension": ".py",
   "mimetype": "text/x-python",
   "name": "python",
   "nbconvert_exporter": "python",
   "pygments_lexer": "ipython3",
   "version": "3.13.2"
  }
 },
 "nbformat": 4,
 "nbformat_minor": 5
}
